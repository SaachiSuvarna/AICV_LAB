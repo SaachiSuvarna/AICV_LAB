{
 "cells": [
  {
   "cell_type": "markdown",
   "id": "1d58308a",
   "metadata": {},
   "source": [
    "# Kmeans is unsupervisied learning"
   ]
  },
  {
   "cell_type": "code",
   "execution_count": null,
   "id": "668dc9e4",
   "metadata": {},
   "outputs": [],
   "source": []
  },
  {
   "cell_type": "code",
   "execution_count": null,
   "id": "2739e05c",
   "metadata": {},
   "outputs": [],
   "source": []
  },
  {
   "cell_type": "code",
   "execution_count": null,
   "id": "969691fd",
   "metadata": {},
   "outputs": [],
   "source": [
    "import numpy as np\n",
    "from sklearn.cluster import KMeans\n",
    "import matplotlib.pyplot as plt"
   ]
  },
  {
   "cell_type": "code",
   "execution_count": 35,
   "id": "3951d947",
   "metadata": {},
   "outputs": [
    {
     "data": {
      "text/plain": [
       "array([[0.91672295, 0.92115761],\n",
       "       [0.08311249, 0.27771856],\n",
       "       [0.0093567 , 0.84234208],\n",
       "       [0.64717414, 0.84138612],\n",
       "       [0.26473016, 0.39782075],\n",
       "       [0.55282148, 0.16494046],\n",
       "       [0.36980809, 0.14644176],\n",
       "       [0.56961841, 0.70373728],\n",
       "       [0.28847644, 0.43328806],\n",
       "       [0.75610669, 0.39609828]])"
      ]
     },
     "execution_count": 35,
     "metadata": {},
     "output_type": "execute_result"
    }
   ],
   "source": [
    "#np.random.seed(0)#generate numbers randomly\n",
    "x=np.random.rand(10,2)\n",
    "x"
   ]
  },
  {
   "cell_type": "code",
   "execution_count": 28,
   "id": "ca5a90e6",
   "metadata": {},
   "outputs": [],
   "source": [
    "k=2 #centroid"
   ]
  },
  {
   "cell_type": "code",
   "execution_count": 29,
   "id": "7dcba156",
   "metadata": {},
   "outputs": [
    {
     "data": {
      "text/plain": [
       "KMeans(n_clusters=2)"
      ]
     },
     "execution_count": 29,
     "metadata": {},
     "output_type": "execute_result"
    }
   ],
   "source": [
    "kmeans=KMeans(n_clusters=k)\n",
    "kmeans.fit(x)"
   ]
  },
  {
   "cell_type": "code",
   "execution_count": 30,
   "id": "42809f61",
   "metadata": {},
   "outputs": [
    {
     "data": {
      "text/plain": [
       "array([[0.04562723, 0.45987457],\n",
       "       [0.639301  , 0.68821061]])"
      ]
     },
     "execution_count": 30,
     "metadata": {},
     "output_type": "execute_result"
    }
   ],
   "source": [
    "cluster_centers=kmeans.cluster_centers_\n",
    "cluster_centers"
   ]
  },
  {
   "cell_type": "code",
   "execution_count": 31,
   "id": "24bcb40b",
   "metadata": {},
   "outputs": [],
   "source": [
    "labels=kmeans.labels_"
   ]
  },
  {
   "cell_type": "code",
   "execution_count": 32,
   "id": "cd593e25",
   "metadata": {},
   "outputs": [
    {
     "data": {
      "image/png": "[encoded data removed]",
      "text/plain": [
       "<Figure size 432x288 with 1 Axes>"
      ]
     },
     "metadata": {
      "needs_background": "light"
     },
     "output_type": "display_data"
    }
   ],
   "source": [
    "#Plotting the graph\n",
    "plt.scatter(x[:,0],x[:,1],c=labels)\n",
    "plt.scatter(cluster_centers[:,0],cluster_centers[:,1],marker='x',s=200,color='red')\n",
    "plt.title(f\"K-Means Clustering (k={k})\")\n",
    "plt.show()"
   ]
  },
  {
   "cell_type": "code",
   "execution_count": null,
   "id": "01119007",
   "metadata": {},
   "outputs": [],
   "source": []
  }
 ],
 "metadata": {
  "kernelspec": {
   "display_name": "Python 3 (ipykernel)",
   "language": "python",
   "name": "python3"
  },
  "language_info": {
   "codemirror_mode": {
    "name": "ipython",
    "version": 3
   },
   "file_extension": ".py",
   "mimetype": "text/x-python",
   "name": "python",
   "nbconvert_exporter": "python",
   "pygments_lexer": "ipython3",
   "version": "3.9.12"
  }
 },
 "nbformat": 4,
 "nbformat_minor": 5
}

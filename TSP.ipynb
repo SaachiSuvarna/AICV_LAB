{
 "cells": [
  {
   "cell_type": "code",
   "execution_count": 1,
   "id": "3868df86",
   "metadata": {},
   "outputs": [],
   "source": [
    "import math"
   ]
  },
  {
   "cell_type": "code",
   "execution_count": 14,
   "id": "b0c0580d",
   "metadata": {},
   "outputs": [
    {
     "name": "stdout",
     "output_type": "stream",
     "text": [
      "Optimal Tour:  [0, 1, 2, 3, 4, 0]\n"
     ]
    }
   ],
   "source": [
    "def dist(p1,p2):\n",
    "    return math.sqrt((p1[0]-p2[0])**2 + (p1[1]-p2[1])**2)\n",
    "def nn(p):\n",
    "    n=len(p)\n",
    "    unvisited=set(range(n))\n",
    "    tour=[0]\n",
    "    unvisited.remove(0)\n",
    "    \n",
    "    while unvisited:\n",
    "        current_point=tour[-1]\n",
    "        np=min(unvisited,key=lambda x: dist(p[current_point],p[x]))\n",
    "        tour.append(np)\n",
    "        unvisited.remove(np)\n",
    "        \n",
    "    tour.append(tour[0])\n",
    "    return tour\n",
    "        \n",
    "if __name__==\"__main__\":\n",
    "    points=[(0,0),(1,2),(2,3),(3,4),(4,2)]\n",
    "    tour=nn(points)\n",
    "    print(\"Optimal Tour: \",tour)"
   ]
  },
  {
   "cell_type": "code",
   "execution_count": null,
   "id": "480120d4",
   "metadata": {},
   "outputs": [],
   "source": []
  },
  {
   "cell_type": "code",
   "execution_count": 18,
   "id": "9d3e2f28",
   "metadata": {},
   "outputs": [
    {
     "name": "stdout",
     "output_type": "stream",
     "text": [
      "TSP Tour: [(28, 17), (35, 31), (11, 27), (4, 3), (69, 11), (81, 14), (94, 13), (75, 54), (86, 94), (3, 94), (28, 17)]\n",
      "Total Distance: 406.51191469928096\n"
     ]
    }
   ],
   "source": [
    "import numpy as np\n",
    "import random\n",
    "\n",
    "def calculate_distance(city1, city2):\n",
    "    \"\"\"\n",
    "    Calculate the Euclidean distance between two cities.\n",
    "    \"\"\"\n",
    "    x1, y1 = city1\n",
    "    x2, y2 = city2\n",
    "    return np.sqrt((x1 - x2) ** 2 + (y1 - y2) ** 2)\n",
    "\n",
    "def nearest_neighbor(current_city, unvisited_cities):\n",
    "    \"\"\"\n",
    "    Find the nearest unvisited city to the current city.\n",
    "    \"\"\"\n",
    "    nearest_city = min(unvisited_cities, key=lambda city: calculate_distance(current_city, city))\n",
    "    return nearest_city\n",
    "\n",
    "def tsp_knn(cities, k):\n",
    "    \"\"\"\n",
    "    Solve the TSP using the k-Nearest Neighbor heuristic.\n",
    "    \"\"\"\n",
    "    num_cities = len(cities)\n",
    "    tour = []\n",
    "    current_city = random.choice(cities)  # Start from a random city\n",
    "    tour.append(current_city)\n",
    "    unvisited_cities = cities.copy()\n",
    "    unvisited_cities.remove(current_city)\n",
    "\n",
    "    while len(tour) < num_cities:\n",
    "        # Find the k nearest unvisited cities\n",
    "        nearest_cities = sorted(unvisited_cities, key=lambda city: calculate_distance(current_city, city))[:k]\n",
    "        \n",
    "        # Choose the nearest city among the k nearest neighbors\n",
    "        nearest_city = nearest_neighbor(current_city, nearest_cities)\n",
    "\n",
    "        # Move to the nearest city and mark it as visited\n",
    "        current_city = nearest_city\n",
    "        tour.append(current_city)\n",
    "        unvisited_cities.remove(current_city)\n",
    "\n",
    "    # Return to the starting city to complete the tour\n",
    "    tour.append(tour[0])\n",
    "    \n",
    "    return tour\n",
    "\n",
    "# Example usage:\n",
    "if __name__ == \"__main__\":\n",
    "    # Generate random cities as (x, y) coordinates\n",
    "    num_cities = 10\n",
    "    random.seed(42)\n",
    "    cities = [(random.randint(0, 100), random.randint(0, 100)) for _ in range(num_cities)]\n",
    "    \n",
    "    # Set k (number of nearest neighbors)\n",
    "    k = 3\n",
    "    \n",
    "    # Find the TSP tour using k-NN heuristic\n",
    "    tour = tsp_knn(cities, k)\n",
    "    \n",
    "    # Print the tour and its total distance\n",
    "    print(\"TSP Tour:\", tour)\n",
    "    total_distance = sum(calculate_distance(tour[i], tour[i + 1]) for i in range(num_cities))\n",
    "    print(\"Total Distance:\", total_distance)\n"
   ]
  },
  {
   "cell_type": "code",
   "execution_count": null,
   "id": "4c3b761e",
   "metadata": {},
   "outputs": [],
   "source": []
  }
 ],
 "metadata": {
  "kernelspec": {
   "display_name": "Python 3 (ipykernel)",
   "language": "python",
   "name": "python3"
  },
  "language_info": {
   "codemirror_mode": {
    "name": "ipython",
    "version": 3
   },
   "file_extension": ".py",
   "mimetype": "text/x-python",
   "name": "python",
   "nbconvert_exporter": "python",
   "pygments_lexer": "ipython3",
   "version": "3.9.12"
  }
 },
 "nbformat": 4,
 "nbformat_minor": 5
}

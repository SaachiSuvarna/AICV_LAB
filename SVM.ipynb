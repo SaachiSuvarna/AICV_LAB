{
 "cells": [
  {
   "cell_type": "code",
   "execution_count": 1,
   "id": "51c60efc",
   "metadata": {},
   "outputs": [],
   "source": [
    "import numpy as np\n",
    "from sklearn import datasets\n",
    "from sklearn.model_selection import train_test_split\n",
    "from sklearn.svm import SVC\n",
    "from sklearn.metrics import accuracy_score"
   ]
  },
  {
   "cell_type": "code",
   "execution_count": 7,
   "id": "ef90dd24",
   "metadata": {},
   "outputs": [
    {
     "name": "stdout",
     "output_type": "stream",
     "text": [
      "Accuracy: 0.87\n"
     ]
    }
   ],
   "source": [
    "#create a synthetic datasets for classification\n",
    "x,y=datasets.make_classification(n_samples=500,n_features=3,n_informative=2,n_redundant=0,random_state=42)\n",
    "\n",
    "#split to training and testing\n",
    "x_train,x_test,y_train,y_test=train_test_split(x,y,test_size=0.2,random_state=42)\n",
    "\n",
    "#crete an svm classifier\n",
    "svm_classifier=SVC(kernel='linear',C=1.0)\n",
    "\n",
    "#train the svm classifier\n",
    "svm_classifier.fit(x_train,y_train)\n",
    "\n",
    "#make prediction\n",
    "y_pred=svm_classifier.predict(x_test)\n",
    "\n",
    "#claculate acc\n",
    "acc=accuracy_score(y_test,y_pred)\n",
    "print(\"Accuracy:\",acc)"
   ]
  },
  {
   "cell_type": "code",
   "execution_count": null,
   "id": "56303a51",
   "metadata": {},
   "outputs": [],
   "source": []
  }
 ],
 "metadata": {
  "kernelspec": {
   "display_name": "Python 3 (ipykernel)",
   "language": "python",
   "name": "python3"
  },
  "language_info": {
   "codemirror_mode": {
    "name": "ipython",
    "version": 3
   },
   "file_extension": ".py",
   "mimetype": "text/x-python",
   "name": "python",
   "nbconvert_exporter": "python",
   "pygments_lexer": "ipython3",
   "version": "3.9.12"
  }
 },
 "nbformat": 4,
 "nbformat_minor": 5
}
